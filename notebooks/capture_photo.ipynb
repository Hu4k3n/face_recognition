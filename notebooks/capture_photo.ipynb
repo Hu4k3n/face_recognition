{
 "cells": [
  {
   "cell_type": "code",
   "execution_count": 9,
   "metadata": {},
   "outputs": [
    {
     "name": "stdout",
     "output_type": "stream",
     "text": [
      "../unknown/unknown_frame_0.png written\n",
      "../unknown/unknown_frame_1.png written\n",
      "../unknown/unknown_frame_2.png written\n",
      "../unknown/unknown_frame_3.png written\n",
      "../unknown/unknown_frame_4.png written\n",
      "../unknown/unknown_frame_5.png written\n"
     ]
    }
   ],
   "source": [
    "import cv2\n",
    "\n",
    "cam=cv2.VideoCapture(0)\n",
    "cv2.namedWindow(\"LockScreen\")\n",
    "img_counter=0\n",
    "while img_counter<=5 :\n",
    "    ret, frame = cam.read()\n",
    "    if not ret:\n",
    "        print(\"failed to grab frame\")\n",
    "        break\n",
    "    cv2.imshow(\"test\", frame)\n",
    "\n",
    "    k = cv2.waitKey(1)\n",
    "    if k%256 == 27:\n",
    "        # ESC pressed\n",
    "        print(\"Escape hit, closing...\")\n",
    "        break\n",
    "    # SPACE pressed\n",
    "    img_name = \"../unknown/unknown_frame_{}.png\".format(img_counter)\n",
    "    cv2.imwrite(img_name, frame)\n",
    "    print(\"{} written\".format(img_name))\n",
    "    img_counter += 1\n",
    "\n",
    "cam.release()\n",
    "\n",
    "cv2.destroyAllWindows()"
   ]
  },
  {
   "cell_type": "code",
   "execution_count": null,
   "metadata": {},
   "outputs": [],
   "source": []
  }
 ],
 "metadata": {
  "kernelspec": {
   "display_name": "Python 3",
   "language": "python",
   "name": "python3"
  },
  "language_info": {
   "codemirror_mode": {
    "name": "ipython",
    "version": 3
   },
   "file_extension": ".py",
   "mimetype": "text/x-python",
   "name": "python",
   "nbconvert_exporter": "python",
   "pygments_lexer": "ipython3",
   "version": "3.8.3"
  }
 },
 "nbformat": 4,
 "nbformat_minor": 4
}
